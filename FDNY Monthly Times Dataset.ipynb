{
 "cells": [
  {
   "cell_type": "markdown",
   "id": "3cb78707",
   "metadata": {},
   "source": [
    "# FDNY Monthly Times\n",
    "## By: Carolina Zea"
   ]
  },
  {
   "cell_type": "markdown",
   "id": "6b7a938c",
   "metadata": {},
   "source": [
    "### This script contains the following:\n",
    "\n",
    "\n",
    "## • Correlation Analysis\n",
    "## • Regression Analysis \n",
    "## • Elbow Technique Analysis \n",
    "## • K-Means Clustering Analysis"
   ]
  },
  {
   "cell_type": "markdown",
   "id": "2a58b151",
   "metadata": {},
   "source": [
    "#### With the help of the available datasets within the NYC Open Data form, I found a dataset interesting - FDNY Monthly Times. After opening the dataset, I found a different borough named 'Citywide.' I removed this from the dataset to focus on the values within the five boroughs - Manhattan, Brooklyn, Queens, Bronx, and Staten Island.\n",
    "####  Born and raised in NYC, I have biased opinions about which month and borough had more incident counts and the type of incident classification found. I added a separate Year, Month, and Response time in Seconds to the dataset as I can correlate Incident Count to specific years and months.\n",
    "####  This dataset contains data from 2009 to 2017.\n",
    "\n",
    "\n",
    "Source: https://data.cityofnewyork.us/Social-Services/FDNY-Monthly-Response-Times/j34j-vqvt\n"
   ]
  },
  {
   "cell_type": "code",
   "execution_count": 1,
   "id": "6c1f51d9",
   "metadata": {},
   "outputs": [],
   "source": [
    "# Import libraries\n",
    "\n",
    "import pandas as pd\n",
    "import numpy as np\n",
    "import seaborn as sns\n",
    "import matplotlib\n",
    "import matplotlib.pyplot as plt\n",
    "import os\n",
    "import sklearn\n",
    "from sklearn.model_selection import train_test_split \n",
    "from sklearn.linear_model import LinearRegression\n",
    "from sklearn.metrics import mean_squared_error, r2_score"
   ]
  },
  {
   "cell_type": "code",
   "execution_count": 2,
   "id": "c4777c7b",
   "metadata": {},
   "outputs": [],
   "source": [
    "%matplotlib inline"
   ]
  },
  {
   "cell_type": "code",
   "execution_count": 3,
   "id": "0837492d",
   "metadata": {},
   "outputs": [],
   "source": [
    "# File location\n",
    "\n",
    "path = r'/Users/carolinazea/OneDrive'"
   ]
  },
  {
   "cell_type": "code",
   "execution_count": 4,
   "id": "fe9f0268",
   "metadata": {},
   "outputs": [],
   "source": [
    "df = pd.read_csv(os.path.join(path, 'FDNY_Monthly_Response_Times.csv'), index_col = False)"
   ]
  },
  {
   "cell_type": "code",
   "execution_count": 5,
   "id": "13a4bd1d",
   "metadata": {},
   "outputs": [
    {
     "data": {
      "text/plain": [
       "(3360, 8)"
      ]
     },
     "execution_count": 5,
     "metadata": {},
     "output_type": "execute_result"
    }
   ],
   "source": [
    "# Count how mnay rows and columns\n",
    "\n",
    "df.shape"
   ]
  },
  {
   "cell_type": "code",
   "execution_count": 53,
   "id": "05718135",
   "metadata": {},
   "outputs": [
    {
     "data": {
      "text/plain": [
       "Index(['YEARMONTH', 'Year', 'Month', 'INCIDENTCLASSIFICATION',\n",
       "       'INCIDENTBOROUGH', 'INCIDENTCOUNT', 'AVERAGERESPONSETIME',\n",
       "       ' Response_in_Seconds '],\n",
       "      dtype='object')"
      ]
     },
     "execution_count": 53,
     "metadata": {},
     "output_type": "execute_result"
    }
   ],
   "source": [
    "# Column Names\n",
    "\n",
    "df.columns"
   ]
  },
  {
   "cell_type": "code",
   "execution_count": 7,
   "id": "8ebf8e52",
   "metadata": {},
   "outputs": [
    {
     "data": {
      "text/html": [
       "<div>\n",
       "<style scoped>\n",
       "    .dataframe tbody tr th:only-of-type {\n",
       "        vertical-align: middle;\n",
       "    }\n",
       "\n",
       "    .dataframe tbody tr th {\n",
       "        vertical-align: top;\n",
       "    }\n",
       "\n",
       "    .dataframe thead th {\n",
       "        text-align: right;\n",
       "    }\n",
       "</style>\n",
       "<table border=\"1\" class=\"dataframe\">\n",
       "  <thead>\n",
       "    <tr style=\"text-align: right;\">\n",
       "      <th></th>\n",
       "      <th>YEARMONTH</th>\n",
       "      <th>Year</th>\n",
       "      <th>Month</th>\n",
       "      <th>INCIDENTCLASSIFICATION</th>\n",
       "      <th>INCIDENTBOROUGH</th>\n",
       "      <th>INCIDENTCOUNT</th>\n",
       "      <th>AVERAGERESPONSETIME</th>\n",
       "      <th>Response_in_Seconds</th>\n",
       "    </tr>\n",
       "  </thead>\n",
       "  <tbody>\n",
       "    <tr>\n",
       "      <th>0</th>\n",
       "      <td>2009/07</td>\n",
       "      <td>2009</td>\n",
       "      <td>7</td>\n",
       "      <td>All Fire/Emergency Incidents</td>\n",
       "      <td>Manhattan</td>\n",
       "      <td>10709</td>\n",
       "      <td>4:32</td>\n",
       "      <td>16320</td>\n",
       "    </tr>\n",
       "    <tr>\n",
       "      <th>1</th>\n",
       "      <td>2009/07</td>\n",
       "      <td>2009</td>\n",
       "      <td>7</td>\n",
       "      <td>All Fire/Emergency Incidents</td>\n",
       "      <td>Bronx</td>\n",
       "      <td>8137</td>\n",
       "      <td>4:37</td>\n",
       "      <td>16620</td>\n",
       "    </tr>\n",
       "    <tr>\n",
       "      <th>2</th>\n",
       "      <td>2009/07</td>\n",
       "      <td>2009</td>\n",
       "      <td>7</td>\n",
       "      <td>All Fire/Emergency Incidents</td>\n",
       "      <td>Staten Island</td>\n",
       "      <td>2205</td>\n",
       "      <td>4:45</td>\n",
       "      <td>17100</td>\n",
       "    </tr>\n",
       "    <tr>\n",
       "      <th>3</th>\n",
       "      <td>2009/07</td>\n",
       "      <td>2009</td>\n",
       "      <td>7</td>\n",
       "      <td>All Fire/Emergency Incidents</td>\n",
       "      <td>Brooklyn</td>\n",
       "      <td>11505</td>\n",
       "      <td>4:01</td>\n",
       "      <td>14460</td>\n",
       "    </tr>\n",
       "    <tr>\n",
       "      <th>4</th>\n",
       "      <td>2009/07</td>\n",
       "      <td>2009</td>\n",
       "      <td>7</td>\n",
       "      <td>All Fire/Emergency Incidents</td>\n",
       "      <td>Queens</td>\n",
       "      <td>8294</td>\n",
       "      <td>4:43</td>\n",
       "      <td>16980</td>\n",
       "    </tr>\n",
       "  </tbody>\n",
       "</table>\n",
       "</div>"
      ],
      "text/plain": [
       "  YEARMONTH  Year  Month        INCIDENTCLASSIFICATION INCIDENTBOROUGH  \\\n",
       "0   2009/07  2009      7  All Fire/Emergency Incidents       Manhattan   \n",
       "1   2009/07  2009      7  All Fire/Emergency Incidents           Bronx   \n",
       "2   2009/07  2009      7  All Fire/Emergency Incidents   Staten Island   \n",
       "3   2009/07  2009      7  All Fire/Emergency Incidents        Brooklyn   \n",
       "4   2009/07  2009      7  All Fire/Emergency Incidents          Queens   \n",
       "\n",
       "   INCIDENTCOUNT AVERAGERESPONSETIME   Response_in_Seconds   \n",
       "0          10709                4:32                  16320  \n",
       "1           8137                4:37                  16620  \n",
       "2           2205                4:45                  17100  \n",
       "3          11505                4:01                  14460  \n",
       "4           8294                4:43                  16980  "
      ]
     },
     "execution_count": 7,
     "metadata": {},
     "output_type": "execute_result"
    }
   ],
   "source": [
    "# First 5 rows of dataset\n",
    "\n",
    "df.head()"
   ]
  },
  {
   "cell_type": "code",
   "execution_count": 8,
   "id": "3c93e756",
   "metadata": {},
   "outputs": [
    {
     "data": {
      "text/html": [
       "<div>\n",
       "<style scoped>\n",
       "    .dataframe tbody tr th:only-of-type {\n",
       "        vertical-align: middle;\n",
       "    }\n",
       "\n",
       "    .dataframe tbody tr th {\n",
       "        vertical-align: top;\n",
       "    }\n",
       "\n",
       "    .dataframe thead th {\n",
       "        text-align: right;\n",
       "    }\n",
       "</style>\n",
       "<table border=\"1\" class=\"dataframe\">\n",
       "  <thead>\n",
       "    <tr style=\"text-align: right;\">\n",
       "      <th></th>\n",
       "      <th>Year</th>\n",
       "      <th>Month</th>\n",
       "      <th>INCIDENTCOUNT</th>\n",
       "      <th>Response_in_Seconds</th>\n",
       "    </tr>\n",
       "  </thead>\n",
       "  <tbody>\n",
       "    <tr>\n",
       "      <th>count</th>\n",
       "      <td>3360.000000</td>\n",
       "      <td>3360.000000</td>\n",
       "      <td>3360.000000</td>\n",
       "      <td>3360.000000</td>\n",
       "    </tr>\n",
       "    <tr>\n",
       "      <th>mean</th>\n",
       "      <td>2013.000000</td>\n",
       "      <td>6.500000</td>\n",
       "      <td>2489.210714</td>\n",
       "      <td>16559.428571</td>\n",
       "    </tr>\n",
       "    <tr>\n",
       "      <th>std</th>\n",
       "      <td>2.345557</td>\n",
       "      <td>3.452566</td>\n",
       "      <td>3402.352329</td>\n",
       "      <td>1697.040390</td>\n",
       "    </tr>\n",
       "    <tr>\n",
       "      <th>min</th>\n",
       "      <td>2009.000000</td>\n",
       "      <td>1.000000</td>\n",
       "      <td>2.000000</td>\n",
       "      <td>11760.000000</td>\n",
       "    </tr>\n",
       "    <tr>\n",
       "      <th>25%</th>\n",
       "      <td>2011.000000</td>\n",
       "      <td>3.750000</td>\n",
       "      <td>215.000000</td>\n",
       "      <td>15480.000000</td>\n",
       "    </tr>\n",
       "    <tr>\n",
       "      <th>50%</th>\n",
       "      <td>2013.000000</td>\n",
       "      <td>6.500000</td>\n",
       "      <td>521.500000</td>\n",
       "      <td>16560.000000</td>\n",
       "    </tr>\n",
       "    <tr>\n",
       "      <th>75%</th>\n",
       "      <td>2015.000000</td>\n",
       "      <td>9.250000</td>\n",
       "      <td>4095.250000</td>\n",
       "      <td>17580.000000</td>\n",
       "    </tr>\n",
       "    <tr>\n",
       "      <th>max</th>\n",
       "      <td>2017.000000</td>\n",
       "      <td>12.000000</td>\n",
       "      <td>14950.000000</td>\n",
       "      <td>25560.000000</td>\n",
       "    </tr>\n",
       "  </tbody>\n",
       "</table>\n",
       "</div>"
      ],
      "text/plain": [
       "              Year        Month  INCIDENTCOUNT   Response_in_Seconds \n",
       "count  3360.000000  3360.000000    3360.000000            3360.000000\n",
       "mean   2013.000000     6.500000    2489.210714           16559.428571\n",
       "std       2.345557     3.452566    3402.352329            1697.040390\n",
       "min    2009.000000     1.000000       2.000000           11760.000000\n",
       "25%    2011.000000     3.750000     215.000000           15480.000000\n",
       "50%    2013.000000     6.500000     521.500000           16560.000000\n",
       "75%    2015.000000     9.250000    4095.250000           17580.000000\n",
       "max    2017.000000    12.000000   14950.000000           25560.000000"
      ]
     },
     "execution_count": 8,
     "metadata": {},
     "output_type": "execute_result"
    }
   ],
   "source": [
    "# Statistical analysis of variables\n",
    "\n",
    "df.describe()"
   ]
  },
  {
   "cell_type": "code",
   "execution_count": 9,
   "id": "22d1a5ae",
   "metadata": {},
   "outputs": [],
   "source": [
    "# Data Types\n",
    "\n",
    "for col in df.columns.tolist():\n",
    "    weird = (df[[col]].applymap(type) != df[[col]].iloc[0].apply(type)).any(axis = 1)\n",
    "    if len (df[weird]) > 0:\n",
    "        print (col)"
   ]
  },
  {
   "cell_type": "code",
   "execution_count": 10,
   "id": "6a16aa3b",
   "metadata": {},
   "outputs": [
    {
     "data": {
      "text/plain": [
       "YEARMONTH                 0\n",
       "Year                      0\n",
       "Month                     0\n",
       "INCIDENTCLASSIFICATION    0\n",
       "INCIDENTBOROUGH           0\n",
       "INCIDENTCOUNT             0\n",
       "AVERAGERESPONSETIME       0\n",
       " Response_in_Seconds      0\n",
       "dtype: int64"
      ]
     },
     "execution_count": 10,
     "metadata": {},
     "output_type": "execute_result"
    }
   ],
   "source": [
    "# Missing values within dataset\n",
    "\n",
    "df.isnull().sum()"
   ]
  },
  {
   "cell_type": "code",
   "execution_count": 11,
   "id": "fc511b09",
   "metadata": {},
   "outputs": [],
   "source": [
    "# Duplicate values\n",
    "\n",
    "df_dups = df[df.duplicated()]"
   ]
  },
  {
   "cell_type": "code",
   "execution_count": 12,
   "id": "e5beb021",
   "metadata": {},
   "outputs": [
    {
     "data": {
      "text/html": [
       "<div>\n",
       "<style scoped>\n",
       "    .dataframe tbody tr th:only-of-type {\n",
       "        vertical-align: middle;\n",
       "    }\n",
       "\n",
       "    .dataframe tbody tr th {\n",
       "        vertical-align: top;\n",
       "    }\n",
       "\n",
       "    .dataframe thead th {\n",
       "        text-align: right;\n",
       "    }\n",
       "</style>\n",
       "<table border=\"1\" class=\"dataframe\">\n",
       "  <thead>\n",
       "    <tr style=\"text-align: right;\">\n",
       "      <th></th>\n",
       "      <th>YEARMONTH</th>\n",
       "      <th>Year</th>\n",
       "      <th>Month</th>\n",
       "      <th>INCIDENTCLASSIFICATION</th>\n",
       "      <th>INCIDENTBOROUGH</th>\n",
       "      <th>INCIDENTCOUNT</th>\n",
       "      <th>AVERAGERESPONSETIME</th>\n",
       "      <th>Response_in_Seconds</th>\n",
       "    </tr>\n",
       "  </thead>\n",
       "  <tbody>\n",
       "  </tbody>\n",
       "</table>\n",
       "</div>"
      ],
      "text/plain": [
       "Empty DataFrame\n",
       "Columns: [YEARMONTH, Year, Month, INCIDENTCLASSIFICATION, INCIDENTBOROUGH, INCIDENTCOUNT, AVERAGERESPONSETIME,  Response_in_Seconds ]\n",
       "Index: []"
      ]
     },
     "execution_count": 12,
     "metadata": {},
     "output_type": "execute_result"
    }
   ],
   "source": [
    "df_dups"
   ]
  },
  {
   "cell_type": "markdown",
   "id": "837cc78d",
   "metadata": {},
   "source": [
    "# Correlation Analysis"
   ]
  },
  {
   "cell_type": "code",
   "execution_count": 55,
   "id": "c621ce5f",
   "metadata": {},
   "outputs": [
    {
     "data": {
      "text/html": [
       "<div>\n",
       "<style scoped>\n",
       "    .dataframe tbody tr th:only-of-type {\n",
       "        vertical-align: middle;\n",
       "    }\n",
       "\n",
       "    .dataframe tbody tr th {\n",
       "        vertical-align: top;\n",
       "    }\n",
       "\n",
       "    .dataframe thead th {\n",
       "        text-align: right;\n",
       "    }\n",
       "</style>\n",
       "<table border=\"1\" class=\"dataframe\">\n",
       "  <thead>\n",
       "    <tr style=\"text-align: right;\">\n",
       "      <th></th>\n",
       "      <th>Year</th>\n",
       "      <th>Month</th>\n",
       "      <th>INCIDENTCOUNT</th>\n",
       "      <th>Response_in_Seconds</th>\n",
       "    </tr>\n",
       "  </thead>\n",
       "  <tbody>\n",
       "    <tr>\n",
       "      <th>Year</th>\n",
       "      <td>1.000000</td>\n",
       "      <td>-0.185282</td>\n",
       "      <td>0.046420</td>\n",
       "      <td>0.211980</td>\n",
       "    </tr>\n",
       "    <tr>\n",
       "      <th>Month</th>\n",
       "      <td>-0.185282</td>\n",
       "      <td>1.000000</td>\n",
       "      <td>0.007044</td>\n",
       "      <td>-0.034172</td>\n",
       "    </tr>\n",
       "    <tr>\n",
       "      <th>INCIDENTCOUNT</th>\n",
       "      <td>0.046420</td>\n",
       "      <td>0.007044</td>\n",
       "      <td>1.000000</td>\n",
       "      <td>0.213897</td>\n",
       "    </tr>\n",
       "    <tr>\n",
       "      <th>Response_in_Seconds</th>\n",
       "      <td>0.211980</td>\n",
       "      <td>-0.034172</td>\n",
       "      <td>0.213897</td>\n",
       "      <td>1.000000</td>\n",
       "    </tr>\n",
       "  </tbody>\n",
       "</table>\n",
       "</div>"
      ],
      "text/plain": [
       "                           Year     Month  INCIDENTCOUNT  \\\n",
       "Year                   1.000000 -0.185282       0.046420   \n",
       "Month                 -0.185282  1.000000       0.007044   \n",
       "INCIDENTCOUNT          0.046420  0.007044       1.000000   \n",
       " Response_in_Seconds   0.211980 -0.034172       0.213897   \n",
       "\n",
       "                        Response_in_Seconds   \n",
       "Year                                0.211980  \n",
       "Month                              -0.034172  \n",
       "INCIDENTCOUNT                       0.213897  \n",
       " Response_in_Seconds                1.000000  "
      ]
     },
     "execution_count": 55,
     "metadata": {},
     "output_type": "execute_result"
    }
   ],
   "source": [
    "df.corr()"
   ]
  },
  {
   "cell_type": "code",
   "execution_count": 56,
   "id": "19c5f953",
   "metadata": {},
   "outputs": [
    {
     "data": {
      "image/png": "[encoded data removed]",
      "text/plain": [
       "<Figure size 288x288 with 1 Axes>"
      ]
     },
     "metadata": {
      "needs_background": "light"
     },
     "output_type": "display_data"
    }
   ],
   "source": [
    "plt.matshow(df.corr())\n",
    "plt.show()"
   ]
  },
  {
   "cell_type": "code",
   "execution_count": 57,
   "id": "e1d1b275",
   "metadata": {},
   "outputs": [
    {
     "data": {
      "text/plain": [
       "Text(0.5, 1.0, 'Correlation Matrix')"
      ]
     },
     "execution_count": 57,
     "metadata": {},
     "output_type": "execute_result"
    },
    {
     "data": {
      "image/png": "[encoded data removed]",
      "text/plain": [
       "<Figure size 576x576 with 2 Axes>"
      ]
     },
     "metadata": {
      "needs_background": "light"
     },
     "output_type": "display_data"
    }
   ],
   "source": [
    "f = plt.figure(figsize=(8, 8)) # figure size \n",
    "plt.matshow(df.corr(), fignum=f.number) # type of plot\n",
    "plt.xticks(range(df.shape[1]), df.columns, fontsize=14, rotation=45) # x axis labels\n",
    "plt.yticks(range(df.shape[1]), df.columns, fontsize=14) # y axis labels\n",
    "cb = plt.colorbar() # add a colour legend (called colorbar)\n",
    "cb.ax.tick_params(labelsize=14) # add font size\n",
    "plt.title('Correlation Matrix', fontsize=14) # add title"
   ]
  },
  {
   "cell_type": "code",
   "execution_count": 58,
   "id": "0b70f431",
   "metadata": {},
   "outputs": [
    {
     "data": {
      "text/plain": [
       "Index(['YEARMONTH', 'Year', 'Month', 'INCIDENTCLASSIFICATION',\n",
       "       'INCIDENTBOROUGH', 'INCIDENTCOUNT', 'AVERAGERESPONSETIME',\n",
       "       ' Response_in_Seconds '],\n",
       "      dtype='object')"
      ]
     },
     "execution_count": 58,
     "metadata": {},
     "output_type": "execute_result"
    }
   ],
   "source": [
    "# Correlation heatmap using seaborn\n",
    "\n",
    "df.columns"
   ]
  },
  {
   "cell_type": "code",
   "execution_count": 62,
   "id": "5e6219aa",
   "metadata": {},
   "outputs": [],
   "source": [
    "sub = df[['Year', 'Month', 'INCIDENTCOUNT']]"
   ]
  },
  {
   "cell_type": "code",
   "execution_count": 63,
   "id": "296b5b90",
   "metadata": {},
   "outputs": [
    {
     "data": {
      "text/html": [
       "<div>\n",
       "<style scoped>\n",
       "    .dataframe tbody tr th:only-of-type {\n",
       "        vertical-align: middle;\n",
       "    }\n",
       "\n",
       "    .dataframe tbody tr th {\n",
       "        vertical-align: top;\n",
       "    }\n",
       "\n",
       "    .dataframe thead th {\n",
       "        text-align: right;\n",
       "    }\n",
       "</style>\n",
       "<table border=\"1\" class=\"dataframe\">\n",
       "  <thead>\n",
       "    <tr style=\"text-align: right;\">\n",
       "      <th></th>\n",
       "      <th>Year</th>\n",
       "      <th>Month</th>\n",
       "      <th>INCIDENTCOUNT</th>\n",
       "    </tr>\n",
       "  </thead>\n",
       "  <tbody>\n",
       "    <tr>\n",
       "      <th>0</th>\n",
       "      <td>2009</td>\n",
       "      <td>7</td>\n",
       "      <td>10709</td>\n",
       "    </tr>\n",
       "    <tr>\n",
       "      <th>1</th>\n",
       "      <td>2009</td>\n",
       "      <td>7</td>\n",
       "      <td>8137</td>\n",
       "    </tr>\n",
       "    <tr>\n",
       "      <th>2</th>\n",
       "      <td>2009</td>\n",
       "      <td>7</td>\n",
       "      <td>2205</td>\n",
       "    </tr>\n",
       "    <tr>\n",
       "      <th>3</th>\n",
       "      <td>2009</td>\n",
       "      <td>7</td>\n",
       "      <td>11505</td>\n",
       "    </tr>\n",
       "    <tr>\n",
       "      <th>4</th>\n",
       "      <td>2009</td>\n",
       "      <td>7</td>\n",
       "      <td>8294</td>\n",
       "    </tr>\n",
       "    <tr>\n",
       "      <th>...</th>\n",
       "      <td>...</td>\n",
       "      <td>...</td>\n",
       "      <td>...</td>\n",
       "    </tr>\n",
       "    <tr>\n",
       "      <th>3355</th>\n",
       "      <td>2017</td>\n",
       "      <td>6</td>\n",
       "      <td>424</td>\n",
       "    </tr>\n",
       "    <tr>\n",
       "      <th>3356</th>\n",
       "      <td>2017</td>\n",
       "      <td>6</td>\n",
       "      <td>444</td>\n",
       "    </tr>\n",
       "    <tr>\n",
       "      <th>3357</th>\n",
       "      <td>2017</td>\n",
       "      <td>6</td>\n",
       "      <td>90</td>\n",
       "    </tr>\n",
       "    <tr>\n",
       "      <th>3358</th>\n",
       "      <td>2017</td>\n",
       "      <td>6</td>\n",
       "      <td>598</td>\n",
       "    </tr>\n",
       "    <tr>\n",
       "      <th>3359</th>\n",
       "      <td>2017</td>\n",
       "      <td>6</td>\n",
       "      <td>410</td>\n",
       "    </tr>\n",
       "  </tbody>\n",
       "</table>\n",
       "<p>3360 rows × 3 columns</p>\n",
       "</div>"
      ],
      "text/plain": [
       "      Year  Month  INCIDENTCOUNT\n",
       "0     2009      7          10709\n",
       "1     2009      7           8137\n",
       "2     2009      7           2205\n",
       "3     2009      7          11505\n",
       "4     2009      7           8294\n",
       "...    ...    ...            ...\n",
       "3355  2017      6            424\n",
       "3356  2017      6            444\n",
       "3357  2017      6             90\n",
       "3358  2017      6            598\n",
       "3359  2017      6            410\n",
       "\n",
       "[3360 rows x 3 columns]"
      ]
     },
     "execution_count": 63,
     "metadata": {},
     "output_type": "execute_result"
    }
   ],
   "source": [
    "sub"
   ]
  },
  {
   "cell_type": "code",
   "execution_count": 64,
   "id": "78480272",
   "metadata": {
    "scrolled": false
   },
   "outputs": [
    {
     "data": {
      "image/png": "[encoded data removed]",
      "text/plain": [
       "<Figure size 720x720 with 2 Axes>"
      ]
     },
     "metadata": {
      "needs_background": "light"
     },
     "output_type": "display_data"
    }
   ],
   "source": [
    "# Create a subplot with matplotlib\n",
    "f,ax = plt.subplots(figsize=(10,10))\n",
    "\n",
    "corr = sns.heatmap(sub.corr(), annot = True, ax = ax) "
   ]
  },
  {
   "cell_type": "markdown",
   "id": "f188bcf2",
   "metadata": {},
   "source": [
    "#### Dataset variables all have no to weak relationships. "
   ]
  },
  {
   "cell_type": "markdown",
   "id": "cb995b66",
   "metadata": {},
   "source": [
    "# Regression Analysis"
   ]
  },
  {
   "cell_type": "code",
   "execution_count": 17,
   "id": "243d5d24",
   "metadata": {
    "scrolled": true
   },
   "outputs": [
    {
     "data": {
      "image/png": "[encoded data removed]",
      "text/plain": [
       "<Figure size 432x288 with 1 Axes>"
      ]
     },
     "metadata": {
      "needs_background": "light"
     },
     "output_type": "display_data"
    }
   ],
   "source": [
    "df.plot(x = 'Month', y= 'INCIDENTCOUNT',style='o') \n",
    "\n",
    "plt.title('Incidents Per Month')  \n",
    "plt.xlabel('Month')  \n",
    "plt.ylabel('Incident Count')  \n",
    "plt.show()"
   ]
  },
  {
   "cell_type": "markdown",
   "id": "aa92c6a4",
   "metadata": {},
   "source": [
    "#### There seems to be a steady variation of scatterplot points within the chart. However, month 7 (July) has more incidents than any other month within the year. The reasoning for this may be due to the Fourth of July and overall summertime activities in New York City. People are generally outside for extended periods, which can cause more accidents. "
   ]
  },
  {
   "cell_type": "code",
   "execution_count": 30,
   "id": "f25cc90a",
   "metadata": {},
   "outputs": [],
   "source": [
    "X = df['Month'].values.reshape(-1,1)"
   ]
  },
  {
   "cell_type": "code",
   "execution_count": 31,
   "id": "a11b940b",
   "metadata": {},
   "outputs": [
    {
     "data": {
      "text/plain": [
       "array([[7],\n",
       "       [7],\n",
       "       [7],\n",
       "       ...,\n",
       "       [6],\n",
       "       [6],\n",
       "       [6]])"
      ]
     },
     "execution_count": 31,
     "metadata": {},
     "output_type": "execute_result"
    }
   ],
   "source": [
    "X"
   ]
  },
  {
   "cell_type": "code",
   "execution_count": 32,
   "id": "78d6fbe1",
   "metadata": {},
   "outputs": [],
   "source": [
    "y = df['INCIDENTCOUNT'].values.reshape(-1,1)"
   ]
  },
  {
   "cell_type": "code",
   "execution_count": 33,
   "id": "0c3823d7",
   "metadata": {},
   "outputs": [
    {
     "data": {
      "text/plain": [
       "array([[10709],\n",
       "       [ 8137],\n",
       "       [ 2205],\n",
       "       ...,\n",
       "       [   90],\n",
       "       [  598],\n",
       "       [  410]])"
      ]
     },
     "execution_count": 33,
     "metadata": {},
     "output_type": "execute_result"
    }
   ],
   "source": [
    "y"
   ]
  },
  {
   "cell_type": "code",
   "execution_count": 34,
   "id": "b3cbe727",
   "metadata": {},
   "outputs": [],
   "source": [
    "X_train, X_test, y_train, y_test = train_test_split(X, y, test_size=0.3, random_state=0)"
   ]
  },
  {
   "cell_type": "code",
   "execution_count": 35,
   "id": "62707820",
   "metadata": {},
   "outputs": [],
   "source": [
    "regression = LinearRegression()"
   ]
  },
  {
   "cell_type": "code",
   "execution_count": 36,
   "id": "fbd456ab",
   "metadata": {},
   "outputs": [
    {
     "data": {
      "text/plain": [
       "LinearRegression()"
      ]
     },
     "execution_count": 36,
     "metadata": {},
     "output_type": "execute_result"
    }
   ],
   "source": [
    "regression.fit(X_train, y_train)"
   ]
  },
  {
   "cell_type": "code",
   "execution_count": 37,
   "id": "0dacc163",
   "metadata": {},
   "outputs": [],
   "source": [
    "y_predicted = regression.predict(X_test)"
   ]
  },
  {
   "cell_type": "code",
   "execution_count": 38,
   "id": "0e646a79",
   "metadata": {},
   "outputs": [
    {
     "data": {
      "text/plain": [
       "array([[2471.29990015],\n",
       "       [2473.08379719],\n",
       "       [2472.19184867],\n",
       "       ...,\n",
       "       [2470.40795163],\n",
       "       [2474.86769423],\n",
       "       [2469.96197737]])"
      ]
     },
     "execution_count": 38,
     "metadata": {},
     "output_type": "execute_result"
    }
   ],
   "source": [
    "y_predicted"
   ]
  },
  {
   "cell_type": "code",
   "execution_count": 39,
   "id": "5f6bbef6",
   "metadata": {},
   "outputs": [
    {
     "data": {
      "image/png": "[encoded data removed]",
      "text/plain": [
       "<Figure size 432x288 with 1 Axes>"
      ]
     },
     "metadata": {
      "needs_background": "light"
     },
     "output_type": "display_data"
    }
   ],
   "source": [
    "plot_test = plt\n",
    "plot_test.scatter(X_test, y_test, color='gray', s = 15)\n",
    "plot_test.plot(X_test, y_predicted, color='red', linewidth =3)\n",
    "plot_test.title('Monthly Incidents (Test set)')\n",
    "plot_test.xlabel('Month')\n",
    "plot_test.ylabel('Incident Count')\n",
    "plot_test.show()"
   ]
  },
  {
   "cell_type": "code",
   "execution_count": 40,
   "id": "fbba77c1",
   "metadata": {},
   "outputs": [],
   "source": [
    "rmse = mean_squared_error(y_test, y_predicted)\n",
    "r2 = r2_score(y_test, y_predicted)"
   ]
  },
  {
   "cell_type": "code",
   "execution_count": 41,
   "id": "91844875",
   "metadata": {},
   "outputs": [
    {
     "name": "stdout",
     "output_type": "stream",
     "text": [
      "Slope: [[0.44597426]]\n",
      "Mean squared error:  11455363.16874247\n",
      "R2 score:  -0.00025409687519162283\n"
     ]
    }
   ],
   "source": [
    "print('Slope:' ,regression.coef_)\n",
    "print('Mean squared error: ', rmse)\n",
    "print('R2 score: ', r2)"
   ]
  },
  {
   "cell_type": "code",
   "execution_count": 42,
   "id": "a30b6be8",
   "metadata": {},
   "outputs": [
    {
     "data": {
      "text/plain": [
       "array([[2471.29990015],\n",
       "       [2473.08379719],\n",
       "       [2472.19184867],\n",
       "       ...,\n",
       "       [2470.40795163],\n",
       "       [2474.86769423],\n",
       "       [2469.96197737]])"
      ]
     },
     "execution_count": 42,
     "metadata": {},
     "output_type": "execute_result"
    }
   ],
   "source": [
    "y_predicted"
   ]
  },
  {
   "cell_type": "code",
   "execution_count": 43,
   "id": "f7640a78",
   "metadata": {
    "scrolled": true
   },
   "outputs": [
    {
     "data": {
      "text/html": [
       "<div>\n",
       "<style scoped>\n",
       "    .dataframe tbody tr th:only-of-type {\n",
       "        vertical-align: middle;\n",
       "    }\n",
       "\n",
       "    .dataframe tbody tr th {\n",
       "        vertical-align: top;\n",
       "    }\n",
       "\n",
       "    .dataframe thead th {\n",
       "        text-align: right;\n",
       "    }\n",
       "</style>\n",
       "<table border=\"1\" class=\"dataframe\">\n",
       "  <thead>\n",
       "    <tr style=\"text-align: right;\">\n",
       "      <th></th>\n",
       "      <th>Actual</th>\n",
       "      <th>Predicted</th>\n",
       "    </tr>\n",
       "  </thead>\n",
       "  <tbody>\n",
       "    <tr>\n",
       "      <th>0</th>\n",
       "      <td>144</td>\n",
       "      <td>2471.299900</td>\n",
       "    </tr>\n",
       "    <tr>\n",
       "      <th>1</th>\n",
       "      <td>212</td>\n",
       "      <td>2473.083797</td>\n",
       "    </tr>\n",
       "    <tr>\n",
       "      <th>2</th>\n",
       "      <td>52</td>\n",
       "      <td>2472.191849</td>\n",
       "    </tr>\n",
       "    <tr>\n",
       "      <th>3</th>\n",
       "      <td>4756</td>\n",
       "      <td>2473.083797</td>\n",
       "    </tr>\n",
       "    <tr>\n",
       "      <th>4</th>\n",
       "      <td>364</td>\n",
       "      <td>2470.853926</td>\n",
       "    </tr>\n",
       "    <tr>\n",
       "      <th>5</th>\n",
       "      <td>837</td>\n",
       "      <td>2473.083797</td>\n",
       "    </tr>\n",
       "    <tr>\n",
       "      <th>6</th>\n",
       "      <td>492</td>\n",
       "      <td>2470.853926</td>\n",
       "    </tr>\n",
       "    <tr>\n",
       "      <th>7</th>\n",
       "      <td>3343</td>\n",
       "      <td>2473.975746</td>\n",
       "    </tr>\n",
       "    <tr>\n",
       "      <th>8</th>\n",
       "      <td>3255</td>\n",
       "      <td>2473.529771</td>\n",
       "    </tr>\n",
       "    <tr>\n",
       "      <th>9</th>\n",
       "      <td>67</td>\n",
       "      <td>2471.745874</td>\n",
       "    </tr>\n",
       "    <tr>\n",
       "      <th>10</th>\n",
       "      <td>761</td>\n",
       "      <td>2473.529771</td>\n",
       "    </tr>\n",
       "    <tr>\n",
       "      <th>11</th>\n",
       "      <td>9834</td>\n",
       "      <td>2474.867694</td>\n",
       "    </tr>\n",
       "    <tr>\n",
       "      <th>12</th>\n",
       "      <td>682</td>\n",
       "      <td>2472.637823</td>\n",
       "    </tr>\n",
       "    <tr>\n",
       "      <th>13</th>\n",
       "      <td>366</td>\n",
       "      <td>2473.529771</td>\n",
       "    </tr>\n",
       "    <tr>\n",
       "      <th>14</th>\n",
       "      <td>3307</td>\n",
       "      <td>2469.961977</td>\n",
       "    </tr>\n",
       "    <tr>\n",
       "      <th>15</th>\n",
       "      <td>321</td>\n",
       "      <td>2473.083797</td>\n",
       "    </tr>\n",
       "    <tr>\n",
       "      <th>16</th>\n",
       "      <td>904</td>\n",
       "      <td>2473.975746</td>\n",
       "    </tr>\n",
       "    <tr>\n",
       "      <th>17</th>\n",
       "      <td>488</td>\n",
       "      <td>2471.299900</td>\n",
       "    </tr>\n",
       "    <tr>\n",
       "      <th>18</th>\n",
       "      <td>8375</td>\n",
       "      <td>2473.083797</td>\n",
       "    </tr>\n",
       "    <tr>\n",
       "      <th>19</th>\n",
       "      <td>5006</td>\n",
       "      <td>2473.975746</td>\n",
       "    </tr>\n",
       "    <tr>\n",
       "      <th>20</th>\n",
       "      <td>456</td>\n",
       "      <td>2471.745874</td>\n",
       "    </tr>\n",
       "    <tr>\n",
       "      <th>21</th>\n",
       "      <td>1384</td>\n",
       "      <td>2469.961977</td>\n",
       "    </tr>\n",
       "    <tr>\n",
       "      <th>22</th>\n",
       "      <td>25</td>\n",
       "      <td>2470.407952</td>\n",
       "    </tr>\n",
       "    <tr>\n",
       "      <th>23</th>\n",
       "      <td>8082</td>\n",
       "      <td>2473.529771</td>\n",
       "    </tr>\n",
       "    <tr>\n",
       "      <th>24</th>\n",
       "      <td>376</td>\n",
       "      <td>2471.745874</td>\n",
       "    </tr>\n",
       "    <tr>\n",
       "      <th>25</th>\n",
       "      <td>14163</td>\n",
       "      <td>2472.637823</td>\n",
       "    </tr>\n",
       "    <tr>\n",
       "      <th>26</th>\n",
       "      <td>87</td>\n",
       "      <td>2471.299900</td>\n",
       "    </tr>\n",
       "    <tr>\n",
       "      <th>27</th>\n",
       "      <td>59</td>\n",
       "      <td>2471.299900</td>\n",
       "    </tr>\n",
       "    <tr>\n",
       "      <th>28</th>\n",
       "      <td>440</td>\n",
       "      <td>2472.191849</td>\n",
       "    </tr>\n",
       "    <tr>\n",
       "      <th>29</th>\n",
       "      <td>11828</td>\n",
       "      <td>2474.421720</td>\n",
       "    </tr>\n",
       "  </tbody>\n",
       "</table>\n",
       "</div>"
      ],
      "text/plain": [
       "    Actual    Predicted\n",
       "0      144  2471.299900\n",
       "1      212  2473.083797\n",
       "2       52  2472.191849\n",
       "3     4756  2473.083797\n",
       "4      364  2470.853926\n",
       "5      837  2473.083797\n",
       "6      492  2470.853926\n",
       "7     3343  2473.975746\n",
       "8     3255  2473.529771\n",
       "9       67  2471.745874\n",
       "10     761  2473.529771\n",
       "11    9834  2474.867694\n",
       "12     682  2472.637823\n",
       "13     366  2473.529771\n",
       "14    3307  2469.961977\n",
       "15     321  2473.083797\n",
       "16     904  2473.975746\n",
       "17     488  2471.299900\n",
       "18    8375  2473.083797\n",
       "19    5006  2473.975746\n",
       "20     456  2471.745874\n",
       "21    1384  2469.961977\n",
       "22      25  2470.407952\n",
       "23    8082  2473.529771\n",
       "24     376  2471.745874\n",
       "25   14163  2472.637823\n",
       "26      87  2471.299900\n",
       "27      59  2471.299900\n",
       "28     440  2472.191849\n",
       "29   11828  2474.421720"
      ]
     },
     "execution_count": 43,
     "metadata": {},
     "output_type": "execute_result"
    }
   ],
   "source": [
    "data = pd.DataFrame({'Actual': y_test.flatten(), 'Predicted': y_predicted.flatten()})\n",
    "data.head(30)"
   ]
  },
  {
   "cell_type": "code",
   "execution_count": 44,
   "id": "cbf1b4ba",
   "metadata": {},
   "outputs": [],
   "source": [
    "# Predicting X_train\n",
    "\n",
    "y_predicted_train = regression.predict(X_train) "
   ]
  },
  {
   "cell_type": "code",
   "execution_count": 45,
   "id": "4a718b4e",
   "metadata": {},
   "outputs": [],
   "source": [
    "rmse = mean_squared_error(y_train, y_predicted_train)\n",
    "r2 = r2_score(y_train, y_predicted_train)"
   ]
  },
  {
   "cell_type": "code",
   "execution_count": 46,
   "id": "e73e5169",
   "metadata": {},
   "outputs": [
    {
     "name": "stdout",
     "output_type": "stream",
     "text": [
      "Slope: [[0.44597426]]\n",
      "Mean squared error:  11623082.675849669\n",
      "R2 score:  2.0392189814533168e-07\n"
     ]
    }
   ],
   "source": [
    "print('Slope:' ,regression.coef_)\n",
    "print('Mean squared error: ', rmse)\n",
    "print('R2 score: ', r2)"
   ]
  },
  {
   "cell_type": "code",
   "execution_count": 68,
   "id": "2233e203",
   "metadata": {},
   "outputs": [
    {
     "data": {
      "image/png": "[encoded data removed]",
      "text/plain": [
       "<Figure size 432x288 with 1 Axes>"
      ]
     },
     "metadata": {
      "needs_background": "light"
     },
     "output_type": "display_data"
    }
   ],
   "source": [
    "plot_test = plt\n",
    "plot_test.scatter(X_train, y_train, color='green', s = 15)\n",
    "plot_test.plot(X_train, y_predicted_train, color='red', linewidth =3)\n",
    "plot_test.title('Monthly Incidents (Test set)')\n",
    "plot_test.xlabel('Month')\n",
    "plot_test.ylabel('Incident Count')\n",
    "plot_test.show()"
   ]
  },
  {
   "cell_type": "markdown",
   "id": "6d409d1b",
   "metadata": {},
   "source": [
    "# Elbow Technique Analysis"
   ]
  },
  {
   "cell_type": "code",
   "execution_count": 97,
   "id": "a0ed9059",
   "metadata": {},
   "outputs": [],
   "source": [
    "import sklearn\n",
    "from sklearn.cluster import KMeans\n",
    "import pylab as pl"
   ]
  },
  {
   "cell_type": "code",
   "execution_count": 98,
   "id": "5c3e555f",
   "metadata": {},
   "outputs": [],
   "source": [
    "import matplotlib.pyplot as plt\n",
    "from sklearn.datasets import make_blobs"
   ]
  },
  {
   "cell_type": "code",
   "execution_count": 88,
   "id": "600b54c0",
   "metadata": {},
   "outputs": [],
   "source": [
    "df_subset = df[['Year', 'Month','INCIDENTCOUNT']]"
   ]
  },
  {
   "cell_type": "code",
   "execution_count": 99,
   "id": "d9dcecf8",
   "metadata": {},
   "outputs": [
    {
     "data": {
      "text/html": [
       "<div>\n",
       "<style scoped>\n",
       "    .dataframe tbody tr th:only-of-type {\n",
       "        vertical-align: middle;\n",
       "    }\n",
       "\n",
       "    .dataframe tbody tr th {\n",
       "        vertical-align: top;\n",
       "    }\n",
       "\n",
       "    .dataframe thead th {\n",
       "        text-align: right;\n",
       "    }\n",
       "</style>\n",
       "<table border=\"1\" class=\"dataframe\">\n",
       "  <thead>\n",
       "    <tr style=\"text-align: right;\">\n",
       "      <th></th>\n",
       "      <th>Year</th>\n",
       "      <th>Month</th>\n",
       "      <th>INCIDENTCOUNT</th>\n",
       "    </tr>\n",
       "  </thead>\n",
       "  <tbody>\n",
       "    <tr>\n",
       "      <th>0</th>\n",
       "      <td>2009</td>\n",
       "      <td>7</td>\n",
       "      <td>10709</td>\n",
       "    </tr>\n",
       "    <tr>\n",
       "      <th>1</th>\n",
       "      <td>2009</td>\n",
       "      <td>7</td>\n",
       "      <td>8137</td>\n",
       "    </tr>\n",
       "    <tr>\n",
       "      <th>2</th>\n",
       "      <td>2009</td>\n",
       "      <td>7</td>\n",
       "      <td>2205</td>\n",
       "    </tr>\n",
       "    <tr>\n",
       "      <th>3</th>\n",
       "      <td>2009</td>\n",
       "      <td>7</td>\n",
       "      <td>11505</td>\n",
       "    </tr>\n",
       "    <tr>\n",
       "      <th>4</th>\n",
       "      <td>2009</td>\n",
       "      <td>7</td>\n",
       "      <td>8294</td>\n",
       "    </tr>\n",
       "  </tbody>\n",
       "</table>\n",
       "</div>"
      ],
      "text/plain": [
       "   Year  Month  INCIDENTCOUNT\n",
       "0  2009      7          10709\n",
       "1  2009      7           8137\n",
       "2  2009      7           2205\n",
       "3  2009      7          11505\n",
       "4  2009      7           8294"
      ]
     },
     "execution_count": 99,
     "metadata": {},
     "output_type": "execute_result"
    }
   ],
   "source": [
    "df_subset.head()"
   ]
  },
  {
   "cell_type": "code",
   "execution_count": 100,
   "id": "a8739b62",
   "metadata": {
    "scrolled": true
   },
   "outputs": [],
   "source": [
    "from sklearn.preprocessing import StandardScaler\n",
    "\n",
    "ss = StandardScaler()\n",
    "df_scale = ss.fit_transform(df_subset)"
   ]
  },
  {
   "cell_type": "code",
   "execution_count": 101,
   "id": "c59a8730",
   "metadata": {},
   "outputs": [],
   "source": [
    "num_cl = range(1, 10)\n",
    "kmeans = [KMeans(n_clusters=i) for i in num_cl]\n",
    "\n",
    "#I decided to use 10 clusters for my elbow chart as I scaled down the dataset, the number of clusters (10) are more appropriate to work with."
   ]
  },
  {
   "cell_type": "code",
   "execution_count": 103,
   "id": "8ff6eaeb",
   "metadata": {},
   "outputs": [],
   "source": [
    "score = [kmeans[i].fit(df_subset).score(df_subset) for i in range(len(kmeans))]"
   ]
  },
  {
   "cell_type": "code",
   "execution_count": 104,
   "id": "76e9f4a1",
   "metadata": {},
   "outputs": [
    {
     "data": {
      "text/plain": [
       "[-38883847132.814285,\n",
       " -10504863132.356506,\n",
       " -2728082884.5804367,\n",
       " -1562233446.3098545,\n",
       " -954680340.0807499,\n",
       " -725509185.0640181,\n",
       " -556020201.964366,\n",
       " -452307283.99642646,\n",
       " -352161396.87845576]"
      ]
     },
     "execution_count": 104,
     "metadata": {},
     "output_type": "execute_result"
    }
   ],
   "source": [
    "score"
   ]
  },
  {
   "cell_type": "code",
   "execution_count": 105,
   "id": "05abc7c6",
   "metadata": {
    "scrolled": false
   },
   "outputs": [
    {
     "data": {
      "image/png": "[encoded data removed]",
      "text/plain": [
       "<Figure size 432x288 with 1 Axes>"
      ]
     },
     "metadata": {},
     "output_type": "display_data"
    }
   ],
   "source": [
    "pl.plot(num_cl,score)\n",
    "pl.xlabel('Number of Clusters')\n",
    "pl.ylabel('Score')\n",
    "pl.title('Elbow Curve')\n",
    "pl.show()"
   ]
  },
  {
   "cell_type": "markdown",
   "id": "94b27bf4",
   "metadata": {},
   "source": [
    "### The Elbow Curve straightens out from 3 and forwards, which means we used the right amount of clusters."
   ]
  },
  {
   "cell_type": "markdown",
   "id": "cfe9b9f4",
   "metadata": {},
   "source": [
    "# K-Means Clustering"
   ]
  },
  {
   "cell_type": "code",
   "execution_count": 107,
   "id": "a4203088",
   "metadata": {},
   "outputs": [],
   "source": [
    "km = KMeans(\n",
    "    n_clusters=3, init='random',\n",
    "    n_init=10, max_iter=300, \n",
    "    tol=1e-04, random_state=0\n",
    ")\n",
    "y_km = km.fit_predict(df_subset)"
   ]
  },
  {
   "cell_type": "code",
   "execution_count": 108,
   "id": "55ece972",
   "metadata": {},
   "outputs": [
    {
     "data": {
      "text/plain": [
       "array([1, 1, 2, ..., 2, 2, 2], dtype=int32)"
      ]
     },
     "execution_count": 108,
     "metadata": {},
     "output_type": "execute_result"
    }
   ],
   "source": [
    "km.fit_predict(df_subset)"
   ]
  },
  {
   "cell_type": "code",
   "execution_count": 109,
   "id": "c842f9e7",
   "metadata": {},
   "outputs": [],
   "source": [
    "df['clusters'] = km.fit_predict(df_subset)"
   ]
  },
  {
   "cell_type": "code",
   "execution_count": 110,
   "id": "a5353a06",
   "metadata": {},
   "outputs": [
    {
     "data": {
      "text/html": [
       "<div>\n",
       "<style scoped>\n",
       "    .dataframe tbody tr th:only-of-type {\n",
       "        vertical-align: middle;\n",
       "    }\n",
       "\n",
       "    .dataframe tbody tr th {\n",
       "        vertical-align: top;\n",
       "    }\n",
       "\n",
       "    .dataframe thead th {\n",
       "        text-align: right;\n",
       "    }\n",
       "</style>\n",
       "<table border=\"1\" class=\"dataframe\">\n",
       "  <thead>\n",
       "    <tr style=\"text-align: right;\">\n",
       "      <th></th>\n",
       "      <th>YEARMONTH</th>\n",
       "      <th>Year</th>\n",
       "      <th>Month</th>\n",
       "      <th>INCIDENTCLASSIFICATION</th>\n",
       "      <th>INCIDENTBOROUGH</th>\n",
       "      <th>INCIDENTCOUNT</th>\n",
       "      <th>AVERAGERESPONSETIME</th>\n",
       "      <th>Response_in_Seconds</th>\n",
       "      <th>clusters</th>\n",
       "    </tr>\n",
       "  </thead>\n",
       "  <tbody>\n",
       "    <tr>\n",
       "      <th>0</th>\n",
       "      <td>2009/07</td>\n",
       "      <td>2009</td>\n",
       "      <td>7</td>\n",
       "      <td>All Fire/Emergency Incidents</td>\n",
       "      <td>Manhattan</td>\n",
       "      <td>10709</td>\n",
       "      <td>4:32</td>\n",
       "      <td>16320</td>\n",
       "      <td>1</td>\n",
       "    </tr>\n",
       "    <tr>\n",
       "      <th>1</th>\n",
       "      <td>2009/07</td>\n",
       "      <td>2009</td>\n",
       "      <td>7</td>\n",
       "      <td>All Fire/Emergency Incidents</td>\n",
       "      <td>Bronx</td>\n",
       "      <td>8137</td>\n",
       "      <td>4:37</td>\n",
       "      <td>16620</td>\n",
       "      <td>1</td>\n",
       "    </tr>\n",
       "    <tr>\n",
       "      <th>2</th>\n",
       "      <td>2009/07</td>\n",
       "      <td>2009</td>\n",
       "      <td>7</td>\n",
       "      <td>All Fire/Emergency Incidents</td>\n",
       "      <td>Staten Island</td>\n",
       "      <td>2205</td>\n",
       "      <td>4:45</td>\n",
       "      <td>17100</td>\n",
       "      <td>2</td>\n",
       "    </tr>\n",
       "    <tr>\n",
       "      <th>3</th>\n",
       "      <td>2009/07</td>\n",
       "      <td>2009</td>\n",
       "      <td>7</td>\n",
       "      <td>All Fire/Emergency Incidents</td>\n",
       "      <td>Brooklyn</td>\n",
       "      <td>11505</td>\n",
       "      <td>4:01</td>\n",
       "      <td>14460</td>\n",
       "      <td>1</td>\n",
       "    </tr>\n",
       "    <tr>\n",
       "      <th>4</th>\n",
       "      <td>2009/07</td>\n",
       "      <td>2009</td>\n",
       "      <td>7</td>\n",
       "      <td>All Fire/Emergency Incidents</td>\n",
       "      <td>Queens</td>\n",
       "      <td>8294</td>\n",
       "      <td>4:43</td>\n",
       "      <td>16980</td>\n",
       "      <td>1</td>\n",
       "    </tr>\n",
       "  </tbody>\n",
       "</table>\n",
       "</div>"
      ],
      "text/plain": [
       "  YEARMONTH  Year  Month        INCIDENTCLASSIFICATION INCIDENTBOROUGH  \\\n",
       "0   2009/07  2009      7  All Fire/Emergency Incidents       Manhattan   \n",
       "1   2009/07  2009      7  All Fire/Emergency Incidents           Bronx   \n",
       "2   2009/07  2009      7  All Fire/Emergency Incidents   Staten Island   \n",
       "3   2009/07  2009      7  All Fire/Emergency Incidents        Brooklyn   \n",
       "4   2009/07  2009      7  All Fire/Emergency Incidents          Queens   \n",
       "\n",
       "   INCIDENTCOUNT AVERAGERESPONSETIME   Response_in_Seconds   clusters  \n",
       "0          10709                4:32                  16320         1  \n",
       "1           8137                4:37                  16620         1  \n",
       "2           2205                4:45                  17100         2  \n",
       "3          11505                4:01                  14460         1  \n",
       "4           8294                4:43                  16980         1  "
      ]
     },
     "execution_count": 110,
     "metadata": {},
     "output_type": "execute_result"
    }
   ],
   "source": [
    "df.head()"
   ]
  },
  {
   "cell_type": "code",
   "execution_count": 111,
   "id": "19dfc2b5",
   "metadata": {},
   "outputs": [
    {
     "data": {
      "text/plain": [
       "2    2199\n",
       "0     794\n",
       "1     367\n",
       "Name: clusters, dtype: int64"
      ]
     },
     "execution_count": 111,
     "metadata": {},
     "output_type": "execute_result"
    }
   ],
   "source": [
    "df['clusters'].value_counts()\n",
    "\n",
    "# 2 seems to have the highest amounr of observation clusters, followed by 0 and 1."
   ]
  },
  {
   "cell_type": "code",
   "execution_count": 115,
   "id": "91b02231",
   "metadata": {
    "scrolled": false
   },
   "outputs": [
    {
     "data": {
      "image/png": "[encoded data removed]",
      "text/plain": [
       "<Figure size 864x576 with 1 Axes>"
      ]
     },
     "metadata": {},
     "output_type": "display_data"
    }
   ],
   "source": [
    "plt.figure(figsize=(12,8))\n",
    "ax = sns.scatterplot(x=df['Year'], y=df['INCIDENTCOUNT'], hue=km.labels_, s=100) \n",
    "\n",
    "ax.grid(False) \n",
    "plt.xlabel('Year') \n",
    "plt.ylabel('Incident Count') \n",
    "plt.show()"
   ]
  },
  {
   "cell_type": "markdown",
   "id": "f1674519",
   "metadata": {},
   "source": [
    "### 2015 had the highest Incident Count over ten years. "
   ]
  }
 ],
 "metadata": {
  "kernelspec": {
   "display_name": "Python 3 (ipykernel)",
   "language": "python",
   "name": "python3"
  },
  "language_info": {
   "codemirror_mode": {
    "name": "ipython",
    "version": 3
   },
   "file_extension": ".py",
   "mimetype": "text/x-python",
   "name": "python",
   "nbconvert_exporter": "python",
   "pygments_lexer": "ipython3",
   "version": "3.8.12"
  }
 },
 "nbformat": 4,
 "nbformat_minor": 5
}
